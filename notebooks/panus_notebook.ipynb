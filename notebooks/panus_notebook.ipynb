{
 "cells": [
  {
   "cell_type": "markdown",
   "id": "1468d5d2-cfda-428b-9b2b-bf8caa7e7e4f",
   "metadata": {},
   "source": [
    "# Upload faiss indices to HuggingFace"
   ]
  },
  {
   "cell_type": "code",
   "execution_count": null,
   "id": "074aa7f9-6646-43b3-b8e9-c934132baf57",
   "metadata": {},
   "outputs": [],
   "source": []
  },
  {
   "cell_type": "markdown",
   "id": "9c3e75b7-8b1c-41a5-a475-79fbffaffd89",
   "metadata": {},
   "source": [
    "# Embedding testing"
   ]
  },
  {
   "cell_type": "code",
   "execution_count": 8,
   "id": "aec73dcd-8096-4c03-a9d1-25cbe4001fb4",
   "metadata": {
    "tags": []
   },
   "outputs": [],
   "source": [
    "import json\n",
    "import glob\n",
    "import itertools\n",
    "\n",
    "import os\n",
    "import torch\n",
    "import numpy as np\n",
    "import faiss\n",
    "from transformers import AutoTokenizer, AutoModel, CLIPProcessor, CLIPModel\n",
    "from pytubefix import YouTube\n",
    "import cv2\n",
    "from youtube_transcript_api import YouTubeTranscriptApi\n",
    "import re\n",
    "from typing import List, Dict, Tuple, Optional\n",
    "import pandas as pd\n",
    "from tqdm import tqdm\n"
   ]
  },
  {
   "cell_type": "code",
   "execution_count": 13,
   "id": "1e954330-fcf2-4081-91c4-b187e74e562e",
   "metadata": {
    "tags": []
   },
   "outputs": [
    {
     "name": "stdout",
     "output_type": "stream",
     "text": [
      "Channel name: 3Blue1Brown\n",
      "Downloaded: 6dTyOl1fmDo.mp4 (360p)\n",
      "Downloaded: hFMaT9oRbs4.mp4 (360p)\n",
      "Downloaded: YdOXS_9_P4U.mp4 (360p)\n",
      "Downloaded: IQqtsm-bBRU.mp4 (360p)\n",
      "Downloaded: LPZh9BOjkQs.mp4 (360p)\n",
      "Downloaded: piJkuavhV50.mp4 (360p)\n",
      "Downloaded: rbu7Zu5X1zI.mp4 (360p)\n",
      "Downloaded: EmKQsSDlaa4.mp4 (360p)\n",
      "Downloaded: 9-Jl0dxWQs8.mp4 (360p)\n",
      "Downloaded: W3I3kAg2J7w.mp4 (360p)\n",
      "Downloaded: eMlx5fFNoYc.mp4 (360p)\n",
      "Downloaded: wjZofJX0v4M.mp4 (360p)\n",
      "Downloaded: Cz4Q4QOuoo8.mp4 (360p)\n",
      "Downloaded: KTzGBJPuJwM.mp4 (360p)\n",
      "Downloaded: 6a1fLEToyvU.mp4 (360p)\n",
      "Downloaded: aXRTczANuIs.mp4 (360p)\n",
      "Downloaded: QCX62YJCmGk.mp4 (360p)\n",
      "Downloaded: d_qvLDhkg00.mp4 (360p)\n",
      "Downloaded: YtkIWDE36qU.mp4 (360p)\n",
      "Downloaded: NOCsdhzo6Jg.mp4 (360p)\n",
      "Downloaded: IaSGqQa5O-M.mp4 (360p)\n",
      "Downloaded: cy8r7WSuT1I.mp4 (360p)\n",
      "Downloaded: zeJD6dqJ5lo.mp4 (360p)\n",
      "Downloaded: KuXjwB4LzSA.mp4 (360p)\n",
      "Downloaded: 851U557j6HE.mp4 (360p)\n",
      "Downloaded: cDofhN-RJqg.mp4 (360p)\n",
      "Downloaded: VYQVlVoWoPY.mp4 (360p)\n",
      "Downloaded: bOXCLR3Wric.mp4 (360p)\n",
      "Downloaded: fRed0Xmc2Wg.mp4 (360p)\n",
      "Downloaded: v68zYyaEmEA.mp4 (360p)\n",
      "Downloaded: ltLUadnCyi0.mp4 (360p)\n",
      "Downloaded: F3Qixy-r_rQ.mp4 (360p)\n",
      "Downloaded: LqbZpur38nw.mp4 (360p)\n",
      "Downloaded: -RdOwhmqP5s.mp4 (360p)\n",
      "Downloaded: ojjzXyQCzso.mp4 (360p)\n",
      "Downloaded: e50Bj7jn9IQ.mp4 (360p)\n",
      "Downloaded: O85OWBJ2ayo.mp4 (360p)\n",
      "Downloaded: lG4VkPoG3ko.mp4 (360p)\n",
      "Downloaded: b3NxrZOu_CE.mp4 (360p)\n",
      "Downloaded: X8jsijhllIA.mp4 (360p)\n",
      "Downloaded: mH0oCDa74tE.mp4 (360p)\n",
      "Downloaded: wTJI_WuZSwE.mp4 (360p)\n",
      "Downloaded: D__UaR5MQao.mp4 (360p)\n",
      "Downloaded: ppWPuXsnf1Q.mp4 (360p)\n",
      "Downloaded: ZA4JkHKZM50.mp4 (360p)\n",
      "Downloaded: gxAaO2rsdIs.mp4 (360p)\n",
      "Downloaded: 8idr1WZ1A7Q.mp4 (360p)\n",
      "Downloaded: Kas0tIxDvrg.mp4 (360p)\n",
      "Downloaded: U_85TaXbeIo.mp4 (360p)\n",
      "Downloaded: HZGCoVF3YvM.mp4 (360p)\n",
      "Downloaded: Agbh95KyWxY.mp4 (360p)\n",
      "Downloaded: EK32jo7i5LQ.mp4 (360p)\n",
      "Downloaded: M64HUIJFTZM.mp4 (360p)\n",
      "Downloaded: v0YEaeIClKY.mp4 (360p)\n",
      "Downloaded: -qgreAUpPwM.mp4 (360p)\n",
      "Downloaded: r6sGWTCMz2k.mp4 (360p)\n",
      "Downloaded: ToIXSwZ1pJU.mp4 (360p)\n",
      "Downloaded: ly4S0oi3Yz8.mp4 (360p)\n",
      "Downloaded: p_di4Zn4wz4.mp4 (360p)\n",
      "Downloaded: jBsC34PxzoM.mp4 (360p)\n",
      "Downloaded: brU5yLm9DZM.mp4 (360p)\n",
      "Downloaded: HEfHFsfGXjs.mp4 (360p)\n",
      "Downloaded: GNcFjFmqEc8.mp4 (360p)\n",
      "Downloaded: yuVqxCSsE7c.mp4 (360p)\n",
      "Downloaded: _UoTTq651dE.mp4 (360p)\n",
      "Downloaded: zjMuIxRvygQ.mp4 (360p)\n",
      "Downloaded: d4EgbgTm0Bg.mp4 (360p)\n",
      "Downloaded: Qe6o9j4IjTo.mp4 (360p)\n",
      "Downloaded: pQa_tWZmlGs.mp4 (360p)\n",
      "Downloaded: VcgJro0sTiM.mp4 (360p)\n",
      "Downloaded: rB83DpBJQsE.mp4 (360p)\n",
      "Downloaded: CfW845LNObM.mp4 (360p)\n",
      "Downloaded: 8GPy_UMV-08.mp4 (360p)\n",
      "Downloaded: b7FxPsqfkOY.mp4 (360p)\n",
      "Downloaded: bcPTiiiYDs8.mp4 (360p)\n",
      "Downloaded: d-o3eB9sfls.mp4 (360p)\n",
      "Downloaded: MBnnXbOM5S4.mp4 (360p)\n",
      "Downloaded: spUNpyF58BY.mp4 (360p)\n",
      "Downloaded: VvCytJvd4H0.mp4 (360p)\n",
      "Downloaded: liL66CApESk.mp4 (360p)\n",
      "Downloaded: OkmNXy7er84.mp4 (360p)\n",
      "Downloaded: tIeHLnjs5U8.mp4 (360p)\n",
      "Downloaded: Ilg3gGewQ5U.mp4 (360p)\n",
      "Downloaded: IHZwWFHWa-w.mp4 (360p)\n",
      "Downloaded: aircAruvnKk.mp4 (360p)\n",
      "Downloaded: MzRCDLre1b4.mp4 (360p)\n",
      "Downloaded: zwAD6dRSVyI.mp4 (360p)\n",
      "Downloaded: 3s7h2MHQtxc.mp4 (360p)\n",
      "Downloaded: S9JGmA5_unY.mp4 (360p)\n",
      "Downloaded: bBC-nXj3Ng4.mp4 (360p)\n",
      "Downloaded: QJYmyhnaaek.mp4 (360p)\n",
      "Downloaded: NaL_Cb42WyY.mp4 (360p)\n",
      "Downloaded: 3d6DsjIBzJ4.mp4 (360p)\n",
      "Downloaded: BLkz5LGWihw.mp4 (360p)\n",
      "Downloaded: FnJqaIESC2s.mp4 (360p)\n",
      "Downloaded: rfG8ce4nNh0.mp4 (360p)\n",
      "Downloaded: kfF40MiS7zA.mp4 (360p)\n",
      "Downloaded: qb40J4N1fa4.mp4 (360p)\n",
      "Downloaded: m2MIpDrF7Es.mp4 (360p)\n",
      "Downloaded: YG15m2VwSjA.mp4 (360p)\n",
      "Downloaded: S0_qX4VJhMQ.mp4 (360p)\n",
      "Downloaded: 9vKqVkMQHKk.mp4 (360p)\n",
      "Downloaded: WUvTyaaNkzM.mp4 (360p)\n",
      "Downloaded: mvmuCPvRoWQ.mp4 (360p)\n",
      "Downloaded: gB9n2gHsHN4.mp4 (360p)\n",
      "Downloaded: IxNb1WG_Ido.mp4 (360p)\n",
      "Downloaded: sD0NjbwqlYw.mp4 (360p)\n",
      "Downloaded: bdMfjfT0lKk.mp4 (360p)\n",
      "Downloaded: 2SUvWfNJSsM.mp4 (360p)\n",
      "Downloaded: R7p-nPg8t_g.mp4 (360p)\n",
      "Downloaded: AmgkSdhK4K8.mp4 (360p)\n",
      "Downloaded: TgKwz5Ikpc8.mp4 (360p)\n",
      "Downloaded: PFDu9oVAE-g.mp4 (360p)\n",
      "Downloaded: P2LTAUO1TdA.mp4 (360p)\n",
      "Downloaded: eu6i7WJeinw.mp4 (360p)\n",
      "Downloaded: BaM7OCEm3G0.mp4 (360p)\n",
      "Downloaded: LyGKycYT2v0.mp4 (360p)\n",
      "Downloaded: v8VSDg_WQlA.mp4 (360p)\n",
      "Downloaded: uQhTuRlWMxw.mp4 (360p)\n",
      "Downloaded: Ip3X9LOh2dk.mp4 (360p)\n",
      "Downloaded: rHLEWRxRGiM.mp4 (360p)\n",
      "Downloaded: XkY2DOUCWMU.mp4 (360p)\n",
      "Downloaded: kYB8IZa5AuE.mp4 (360p)\n",
      "Downloaded: k7RM-ot2NWY.mp4 (360p)\n",
      "Downloaded: fNk_zzaMoSs.mp4 (360p)\n",
      "Downloaded: kjBOesZCoqc.mp4 (360p)\n",
      "Downloaded: sULa9Lc4pck.mp4 (360p)\n",
      "Downloaded: Iq1a_KJTWJ8.mp4 (360p)\n",
      "Downloaded: Cld0p3a43fU.mp4 (360p)\n",
      "Downloaded: RU0wScIj36o.mp4 (360p)\n",
      "Downloaded: cyW5z-M2yzw.mp4 (360p)\n",
      "Downloaded: 1SMmc9gQmHQ.mp4 (360p)\n",
      "Downloaded: XFDM1ip5HdU.mp4 (360p)\n",
      "Downloaded: -9OUyo8NFZg.mp4 (360p)\n",
      "Downloaded: zLzLxVeqdQg.mp4 (360p)\n",
      "Downloaded: F_0yfvm0UoU.mp4 (360p)\n"
     ]
    }
   ],
   "source": [
    "from pytubefix import Channel\n",
    "\n",
    "c = Channel('https://www.youtube.com/@3blue1brown/videos')\n",
    "print(f'Channel name: {c.channel_name}')\n",
    "\n",
    "# Loop through each video in the channel\n",
    "for video in c.videos:\n",
    "    if video and video.streams:\n",
    "        # Try getting the lowest resolution first\n",
    "        stream = video.streams.get_lowest_resolution()\n",
    "        \n",
    "        # If lowest resolution is not available, try default resolution (e.g., 360p)\n",
    "        if stream is None:\n",
    "            stream = video.streams.filter(res=\"360p\").first()\n",
    "        \n",
    "        # If 360p is not available, get the highest available resolution\n",
    "        if stream is None:\n",
    "            stream = video.streams.get_highest_resolution()\n",
    "\n",
    "        if stream:\n",
    "            video_id = video.video_id  # Get the YouTube video ID\n",
    "            filename = f\"{video_id}.mp4\"  # Save as {video_id}.mp4\n",
    "            \n",
    "            # Download the video\n",
    "            stream.download(output_path=\"videos\", filename=filename)\n",
    "            print(f\"Downloaded: {filename} ({stream.resolution})\")\n",
    "        else:\n",
    "            print(f\"Skipping video {video.video_id}: No valid stream found\")\n",
    "    else:\n",
    "        print(f\"Skipping video {video}: No streams available\")"
   ]
  },
  {
   "cell_type": "code",
   "execution_count": 66,
   "id": "18336960-c9f2-4447-b98e-d94c8f8536b5",
   "metadata": {
    "tags": []
   },
   "outputs": [
    {
     "name": "stdout",
     "output_type": "stream",
     "text": [
      "C:\\Users\\panup\\Documents\\Tampereen Yliopisto\\COMP.CS.530 Fine-tuning Large Language Models\\capstone\n"
     ]
    }
   ],
   "source": [
    "print(os.getcwd())"
   ]
  },
  {
   "cell_type": "code",
   "execution_count": 69,
   "id": "73a975d6-c687-4bed-94ef-8c5eed5cfc17",
   "metadata": {
    "tags": []
   },
   "outputs": [],
   "source": [
    "from embeddings import MultimodalEmbedder"
   ]
  },
  {
   "cell_type": "code",
   "execution_count": 70,
   "id": "3d4e586f-eb93-4616-9ac5-c84e51f5bd5c",
   "metadata": {
    "tags": []
   },
   "outputs": [
    {
     "name": "stdout",
     "output_type": "stream",
     "text": [
      "ARXIV_METADATA_FILEPATH = 'tmp\\\\arxiv-metadata-oai-snapshot.json'\n"
     ]
    }
   ],
   "source": [
    "ARXIV_METADATA_FILEPATH = glob.glob(\"tmp/**/arxiv*\", recursive=True)[0]\n",
    "print(f\"{ARXIV_METADATA_FILEPATH = }\")"
   ]
  },
  {
   "cell_type": "code",
   "execution_count": 71,
   "id": "2ab9ea64-75c9-4dfd-8fed-b9a53252ed35",
   "metadata": {
    "tags": []
   },
   "outputs": [],
   "source": [
    "# metadata = {}\n",
    "# transcript = YouTubeTranscriptApi.get_transcript(\"eMlx5fFNoYc\")\n",
    "# transcript_text = \" \".join([item['text'] for item in transcript])\n",
    "# metadata[\"transcript\"] = transcript_text"
   ]
  },
  {
   "cell_type": "code",
   "execution_count": 72,
   "id": "d0b13bfe-35f3-4b35-9828-7a9d7059538d",
   "metadata": {
    "tags": []
   },
   "outputs": [],
   "source": [
    "# metadata[\"transcript\"]"
   ]
  },
  {
   "cell_type": "code",
   "execution_count": 73,
   "id": "76dad4cf-2baa-46cb-852b-d3c6aeca8208",
   "metadata": {
    "tags": []
   },
   "outputs": [
    {
     "name": "stdout",
     "output_type": "stream",
     "text": [
      "Loading text embedding model...\n",
      "Loading image/video embedding model...\n"
     ]
    },
    {
     "name": "stderr",
     "output_type": "stream",
     "text": [
      "Indexing documents: 100%|████████████████████████████████████████████████████████████████| 2/2 [00:00<00:00,  2.17it/s]\n",
      "Indexing images: 100%|███████████████████████████████████████████████████████████████████| 1/1 [00:00<00:00,  9.58it/s]\n",
      "Indexing videos:   0%|                                                                           | 0/1 [00:00<?, ?it/s]"
     ]
    },
    {
     "name": "stdout",
     "output_type": "stream",
     "text": [
      "tmp\\videos\\eMlx5fFNoYc.mp4\n"
     ]
    },
    {
     "name": "stderr",
     "output_type": "stream",
     "text": [
      "Indexing videos: 100%|███████████████████████████████████████████████████████████████████| 1/1 [00:05<00:00,  5.40s/it]"
     ]
    },
    {
     "name": "stdout",
     "output_type": "stream",
     "text": [
      "Example search:\n",
      "To run a search, load the indices first or index some content\n",
      "results = embedder.search('multimodal embeddings for scientific papers', k=3)\n"
     ]
    },
    {
     "name": "stderr",
     "output_type": "stream",
     "text": [
      "\n"
     ]
    }
   ],
   "source": [
    "embedder = MultimodalEmbedder()\n",
    "\n",
    "# Example text documents (e.g., from arXiv)\n",
    "documents = [\n",
    "    {\n",
    "        \"id\": \"2104.08663\",\n",
    "        \"title\": \"Retrieval-Augmented Generation for Knowledge-Intensive NLP Tasks\",\n",
    "        \"source\": \"arXiv\",\n",
    "        \"text\": \"Large pre-trained language models have been shown to store factual knowledge in their parameters, and achieve state-of-the-art results when fine-tuned on downstream NLP tasks. However, their ability to access and precisely manipulate knowledge is still limited, and hence on knowledge-intensive tasks, their performance lags behind task-specific architectures. Additionally, providing provenance for their decisions and updating their world knowledge remains challenging. Pre-trained models with a differentiable access mechanism to explicit nonparametric memory can overcome this limitation, but have so far been only investigated for extractive downstream tasks. We explore a general-purpose fine-tuning recipe for retrieval-augmented generation (RAG) — models which combine pre-trained parametric and non-parametric memory for language generation. We introduce RAG models where the parametric memory is a pre-trained seq2seq model and the non-parametric memory is a dense vector index of Wikipedia, accessed with a pre-trained neural retriever. We compare two RAG formulations, one which conditions on the same retrieved passages across the entire generated text, and another which can use different passages per token. We fine-tune and evaluate our models on a wide range of knowledge-intensive NLP tasks and set the state-of-the-art on three open domain QA tasks, outperforming parametric seq2seq models and task-specific retrieve-and-extract architectures. For language generation tasks, we find that RAG models generate more specific, diverse and factual language than a state-of-the-art parametric-only seq2seq baseline.\"\n",
    "    },\n",
    "    {\n",
    "        \"id\": \"2103.00020\",\n",
    "        \"title\": \"CLIP: Connecting Text and Images\",\n",
    "        \"source\": \"arXiv\",\n",
    "        \"text\": \"We present a neural network that efficiently learns visual concepts from natural language supervision. Our method can be applied to any visual concept that people can describe in language and is trained using pairs of images and text found across the internet. By design, the network can be instructed in natural language to perform a wide variety of classification benchmarks, without directly optimizing for the benchmark's performance, similar to the \\\"zero-shot\\\" capabilities of GPT-2 and 3. We find that this approach is efficient and scalable, achieving good performance on a variety of image classification datasets. It also enables flexible zero-shot transfer, where a single model can be adapted to perform many different tasks.\"\n",
    "    }\n",
    "]\n",
    "\n",
    "# Example images (paths would be different in your system)\n",
    "images = [\n",
    "    # {\n",
    "    #     \"id\": 1,\n",
    "    #     \"path\": \"tmp/image1.png\",\n",
    "    #     \"caption\": \"Diagram of a Retrieval Augmented Generation system\",\n",
    "    #     \"source\": \"Research paper figure\"\n",
    "    # },\n",
    "]\n",
    "\n",
    "# Example YouTube videos related to academic research\n",
    "youtube_videos = [\n",
    "    \"eMlx5fFNoYc\",  # Attention in transformers, step-by-step | DL6\n",
    "]\n",
    "\n",
    "# Index content\n",
    "embedder.index_documents(documents)\n",
    "embedder.index_images(images)\n",
    "embedder.index_youtube_videos(youtube_videos)\n",
    "embedder.save_indices(os.path.join(\"tmp\", \"faiss_indices\"))\n",
    "\n",
    "# Example search\n",
    "print(\"Example search:\")\n",
    "print(\"To run a search, load the indices first or index some content\")\n",
    "print(\"results = embedder.search('multimodal embeddings for scientific papers', k=3)\")\n",
    "\n",
    "# Example of loading saved indices\n",
    "# embedder.load_indices()\n",
    "# results = embedder.search('multimodal embeddings for scientific papers', k=3)\n",
    "# print(results)"
   ]
  },
  {
   "cell_type": "code",
   "execution_count": 78,
   "id": "578c96ad-75b4-42fc-ae46-85bfe8d7674d",
   "metadata": {
    "tags": []
   },
   "outputs": [
    {
     "name": "stdout",
     "output_type": "stream",
     "text": [
      "dict_keys(['text', 'image', 'video'])\n",
      "{'video_id': 'eMlx5fFNoYc', 'title': 'Attention in transformers, step-by-step | DL6', 'description': 'Demystifying attention, the key mechanism inside transformers and LLMs.\\nInstead of sponsored ad reads, these lessons are funded directly by viewers: https://3b1b.co/support\\nSpecial thanks to these supporters: https://www.3blue1brown.com/lessons/attention#thanks\\nAn equally valuable form of support is to simply share the videos.\\n\\nDemystifying self-attention, multiple heads, and cross-attention.\\nInstead of sponsored ad reads, these lessons are funded directly by viewers: https://3b1b.co/support\\n\\nThe first pass for the translated subtitles here is machine-generated, and therefore notably imperfect. To contribute edits or fixes, visit https://www.criblate.com\\n\\nЗвуковая дорожка на русском языке: Влад Бурмистров.\\n\\nAnd yes, at 22:00 (and elsewhere), \"breaks\" is a typo.\\n\\n------------------\\n\\nHere are a few other relevant resources\\n\\nBuild a GPT from scratch, by Andrej Karpathy\\nhttps://youtu.be/kCc8FmEb1nY\\n\\nIf you want a conceptual understanding of language models from the ground up, @vcubingx just started a short series of videos on the topic:\\nhttps://youtu.be/1il-s4mgNdI?si=XaVxj6bsdy3VkgEX\\n\\nIf you\\'re interested in the herculean task of interpreting what these large networks might actually be doing, the Transformer Circuits posts by Anthropic are great. In particular, it was only after reading one of these that I started thinking of the combination of the value and output matrices as being a combined low-rank map from the embedding space to itself, which, at least in my mind, made things much clearer than other sources.\\nhttps://transformer-circuits.pub/2021/framework/index.html\\n\\nSite with exercises related to ML programming and GPTs\\nhttps://www.gptandchill.ai/codingproblems\\n\\nHistory of language models by Brit Cruise, \\xa0@ArtOfTheProblem\\xa0 \\nhttps://youtu.be/OFS90-FX6pg\\n\\nAn early paper on how directions in embedding spaces have meaning:\\nhttps://arxiv.org/pdf/1301.3781.pdf\\n\\n------------------\\n\\nTimestamps:\\n0:00 - Recap on embeddings\\n1:39 - Motivating examples\\n4:29 - The attention pattern\\n11:08 - Masking\\n12:42 - Context size\\n13:10 - Values\\n15:44 - Counting parameters\\n18:21 - Cross-attention\\n19:19 - Multiple heads\\n22:16 - The output matrix\\n23:19 - Going deeper\\n24:54 - Ending\\n\\n------------------\\n\\nThese animations are largely made using a custom Python library, manim.  See the FAQ comments here:\\nhttps://3b1b.co/faq#manim\\nhttps://github.com/3b1b/manim\\nhttps://github.com/ManimCommunity/manim/\\n\\nAll code for specific videos is visible here:\\nhttps://github.com/3b1b/videos/\\n\\nThe music is by Vincent Rubinetti.\\nhttps://www.vincentrubinetti.com\\nhttps://vincerubinetti.bandcamp.com/album/the-music-of-3blue1brown\\nhttps://open.spotify.com/album/1dVyjwS8FBqXhRunaG5W5u\\n\\n------------------\\n\\n3blue1brown is a channel about animating math, in all senses of the word animate. If you\\'re reading the bottom of a video description, I\\'m guessing you\\'re more interested than the average viewer in lessons here. It would mean a lot to me if you chose to stay up to date on new ones, either by subscribing here on YouTube or otherwise following on whichever platform below you check most regularly.\\n\\nMailing list: https://3blue1brown.substack.com\\nTwitter: https://twitter.com/3blue1brown\\nInstagram: https://www.instagram.com/3blue1brown\\nReddit: https://www.reddit.com/r/3blue1brown\\nFacebook: https://www.facebook.com/3blue1brown\\nPatreon: https://patreon.com/3blue1brown\\nWebsite: https://www.3blue1brown.com', 'author': '3Blue1Brown', 'duration_seconds': 1569, 'transcript': \"In the last chapter, you and I started to step through the internal workings of a transformer. This is one of the key pieces of technology inside large language models, and a lot of other tools in the modern wave of AI. It first hit the scene in a now-famous 2017 paper called Attention is All You Need, and in this chapter you and I will dig into what this attention mechanism is, visualizing how it processes data. As a quick recap, here's the important context I want you to have in mind. The goal of the model that you and I are studying is to take in a piece of text and predict what word comes next. The input text is broken up into little pieces that we call tokens, and these are very often words or pieces of words, but just to make the examples in this video easier for you and me to think about, let's simplify by pretending that tokens are always just words. The first step in a transformer is to associate each token with a high-dimensional vector, what we call its embedding. The most important idea I want you to have in mind is how directions in this high-dimensional space of all possible embeddings can correspond with semantic meaning. In the last chapter we saw an example for how direction can correspond to gender, in the sense that adding a certain step in this space can take you from the embedding of a masculine noun to the embedding of the corresponding feminine noun. That's just one example you could imagine how many other directions in this high-dimensional space could correspond to numerous other aspects of a word's meaning. The aim of a transformer is to progressively adjust these embeddings so that they don't merely encode an individual word, but instead they bake in some much, much richer contextual meaning. I should say up front that a lot of people find the attention mechanism, this key piece in a transformer, very confusing, so don't worry if it takes some time for things to sink in. I think that before we dive into the computational details and all the matrix multiplications, it's worth thinking about a couple examples for the kind of behavior that we want attention to enable. Consider the phrases American shrew mole, one mole of carbon dioxide, and take a biopsy of the mole. You and I know that the word mole has different meanings in each one of these, based on the context. But after the first step of a transformer, the one that breaks up the text and associates each token with a vector, the vector that's associated with mole would be the same in all of these cases, because this initial token embedding is effectively a lookup table with no reference to the context. It's only in the next step of the transformer that the surrounding embeddings have the chance to pass information into this one. The picture you might have in mind is that there are multiple distinct directions in this embedding space encoding the multiple distinct meanings of the word mole, and that a well-trained attention block calculates what you need to add to the generic embedding to move it to one of these specific directions, as a function of the context. To take another example, consider the embedding of the word tower. This is presumably some very generic, non-specific direction in the space, associated with lots of other large, tall nouns. If this word was immediately preceded by Eiffel, you could imagine wanting the mechanism to update this vector so that it points in a direction that more specifically encodes the Eiffel tower, maybe correlated with vectors associated with Paris and France and things made of steel. If it was also preceded by the word miniature, then the vector should be updated even further, so that it no longer correlates with large, tall things. More generally than just refining the meaning of a word, the attention block allows the model to move information encoded in one embedding to that of another, potentially ones that are quite far away, and potentially with information that's much richer than just a single word. What we saw in the last chapter was how after all of the vectors flow through the network, including many different attention blocks, the computation you perform to produce a prediction of the next token is entirely a function of the last vector in the sequence. Imagine, for example, that the text you input is most of an entire mystery novel, all the way up to a point near the end, which reads, therefore the murderer was. If the model is going to accurately predict the next word, that final vector in the sequence, which began its life simply embedding the word was, will have to have been updated by all of the attention blocks to represent much, much more than any individual word, somehow encoding all of the information from the full context window that's relevant to predicting the next word. To step through the computations, though, let's take a much simpler example. Imagine that the input includes the phrase, a fluffy blue creature roamed the verdant forest. And for the moment, suppose that the only type of update that we care about is having the adjectives adjust the meanings of their corresponding nouns. What I'm about to describe is what we would call a single head of attention, and later we will see how the attention block consists of many different heads run in parallel. Again, the initial embedding for each word is some high dimensional vector that only encodes the meaning of that particular word with no context. Actually, that's not quite true. They also encode the position of the word. There's a lot more to say about the specific way that positions are encoded, but right now, all you need to know is that the entries of this vector are enough to tell you both what the word is and where it exists in the context. Let's go ahead and denote these embeddings with the letter e. The goal is to have a series of computations produce a new refined set of embeddings where, for example, those corresponding to the nouns have ingested the meaning from their corresponding adjectives. And playing the deep learning game, we want most of the computations involved to look like matrix-vector products, where the matrices are full of tuneable weights, things that the model will learn based on data. To be clear, I'm making up this example of adjectives updating nouns just to illustrate the type of behavior that you could imagine an attention head doing. As with so much deep learning, the true behavior is much harder to parse because it's based on tweaking and tuning a huge number of parameters to minimize some cost function. It's just that as we step through all of different matrices filled with parameters that are involved in this process, I think it's really helpful to have an imagined example of something that it could be doing to help keep it all more concrete. For the first step of this process, you might imagine each noun, like creature, asking the question, hey, are there any adjectives sitting in front of me? And for the words fluffy and blue, to each be able to answer, yeah, I'm an adjective and I'm in that position. That question is somehow encoded as yet another vector, another list of numbers, which we call the query for this word. This query vector though has a much smaller dimension than the embedding vector, say 128. Computing this query looks like taking a certain matrix, which I'll label wq, and multiplying it by the embedding. Compressing things a bit, let's write that query vector as q, and then anytime you see me put a matrix next to an arrow like this one, it's meant to represent that multiplying this matrix by the vector at the arrow's start gives you the vector at the arrow's end. In this case, you multiply this matrix by all of the embeddings in the context, producing one query vector for each token. The entries of this matrix are parameters of the model, which means the true behavior is learned from data, and in practice, what this matrix does in a particular attention head is challenging to parse. But for our sake, imagining an example that we might hope that it would learn, we'll suppose that this query matrix maps the embeddings of nouns to certain directions in this smaller query space that somehow encodes the notion of looking for adjectives in preceding positions. As to what it does to other embeddings, who knows? Maybe it simultaneously tries to accomplish some other goal with those. Right now, we're laser focused on the nouns. At the same time, associated with this is a second matrix called the key matrix, which you also multiply by every one of the embeddings. This produces a second sequence of vectors that we call the keys. Conceptually, you want to think of the keys as potentially answering the queries. This key matrix is also full of tuneable parameters, and just like the query matrix, it maps the embedding vectors to that same smaller dimensional space. You think of the keys as matching the queries whenever they closely align with each other. In our example, you would imagine that the key matrix maps the adjectives like fluffy and blue to vectors that are closely aligned with the query produced by the word creature. To measure how well each key matches each query, you compute a dot product between each possible key-query pair. I like to visualize a grid full of a bunch of dots, where the bigger dots correspond to the larger dot products, the places where the keys and queries align. For our adjective noun example, that would look a little more like this, where if the keys produced by fluffy and blue really do align closely with the query produced by creature, then the dot products in these two spots would be some large positive numbers. In the lingo, machine learning people would say that this means the embeddings of fluffy and blue attend to the embedding of creature. By contrast to the dot product between the key for some other word like the and the query for creature would be some small or negative value that reflects that are unrelated to each other. So we have this grid of values that can be any real number from negative infinity to infinity, giving us a score for how relevant each word is to updating the meaning of every other word. The way we're about to use these scores is to take a certain weighted sum along each column, weighted by the relevance. So instead of having values range from negative infinity to infinity, what we want is for the numbers in these columns to be between 0 and 1, and for each column to add up to 1, as if they were a probability distribution. If you're coming in from the last chapter, you know what we need to do then. We compute a softmax along each one of these columns to normalize the values. In our picture, after you apply softmax to all of the columns, we'll fill in the grid with these normalized values. At this point you're safe to think about each column as giving weights according to how relevant the word on the left is to the corresponding value at the top. We call this grid an attention pattern. Now if you look at the original transformer paper, there's a really compact way that they write this all down. Here the variables q and k represent the full arrays of query and key vectors respectively, those little vectors you get by multiplying the embeddings by the query and the key matrices. This expression up in the numerator is a really compact way to represent the grid of all possible dot products between pairs of keys and queries. A small technical detail that I didn't mention is that for numerical stability, it happens to be helpful to divide all of these values by the square root of the dimension in that key query space. Then this softmax that's wrapped around the full expression is meant to be understood to apply column by column. As to that v term, we'll talk about it in just a second. Before that, there's one other technical detail that so far I've skipped. During the training process, when you run this model on a given text example, and all of the weights are slightly adjusted and tuned to either reward or punish it based on how high a probability it assigns to the true next word in the passage, it turns out to make the whole training process a lot more efficient if you simultaneously have it predict every possible next token following each initial subsequence of tokens in this passage. For example, with the phrase that we've been focusing on, it might also be predicting what words follow creature and what words follow the. This is really nice, because it means what would otherwise be a single training example effectively acts as many. For the purposes of our attention pattern, it means that you never want to allow later words to influence earlier words, since otherwise they could kind of give away the answer for what comes next. What this means is that we want all of these spots here, the ones representing later tokens influencing earlier ones, to somehow be forced to be zero. The simplest thing you might think to do is to set them equal to zero, but if you did that the columns wouldn't add up to one anymore, they wouldn't be normalized. So instead, a common way to do this is that before applying softmax, you set all of those entries to be negative infinity. If you do that, then after applying softmax, all of those get turned into zero, but the columns stay normalized. This process is called masking. There are versions of attention where you don't apply it, but in our GPT example, even though this is more relevant during the training phase than it would be, say, running it as a chatbot or something like that, you do always apply this masking to prevent later tokens from influencing earlier ones. Another fact that's worth reflecting on about this attention pattern is how its size is equal to the square of the context size. So this is why context size can be a really huge bottleneck for large language models, and scaling it up is non-trivial. As you imagine, motivated by a desire for bigger and bigger context windows, recent years have seen some variations to the attention mechanism aimed at making context more scalable, but right here, you and I are staying focused on the basics. Okay, great, computing this pattern lets the model deduce which words are relevant to which other words. Now you need to actually update the embeddings, allowing words to pass information to whichever other words they're relevant to. For example, you want the embedding of Fluffy to somehow cause a change to Creature that moves it to a different part of this 12,000-dimensional embedding space that more specifically encodes a Fluffy creature. What I'm going to do here is first show you the most straightforward way that you could do this, though there's a slight way that this gets modified in the context of multi-headed attention. This most straightforward way would be to use a third matrix, what we call the value matrix, which you multiply by the embedding of that first word, for example Fluffy. The result of this is what you would call a value vector, and this is something that you add to the embedding of the second word, in this case something you add to the embedding of Creature. So this value vector lives in the same very high-dimensional space as the embeddings. When you multiply this value matrix by the embedding of a word, you might think of it as saying, if this word is relevant to adjusting the meaning of something else, what exactly should be added to the embedding of that something else in order to reflect this? Looking back in our diagram, let's set aside all of the keys and the queries, since after you compute the attention pattern you're done with those, then you're going to take this value matrix and multiply it by every one of those embeddings to produce a sequence of value vectors. You might think of these value vectors as being kind of associated with the corresponding keys. For each column in this diagram, you multiply each of the value vectors by the corresponding weight in that column. For example here, under the embedding of Creature, you would be adding large proportions of the value vectors for Fluffy and Blue, while all of the other value vectors get zeroed out, or at least nearly zeroed out. And then finally, the way to actually update the embedding associated with this column, previously encoding some context-free meaning of Creature, you add together all of these rescaled values in the column, producing a change that you want to add, that I'll label delta-e, and then you add that to the original embedding. Hopefully what results is a more refined vector encoding the more contextually rich meaning, like that of a fluffy blue creature. And of course you don't just do this to one embedding, you apply the same weighted sum across all of the columns in this picture, producing a sequence of changes, adding all of those changes to the corresponding embeddings, produces a full sequence of more refined embeddings popping out of the attention block. Zooming out, this whole process is what you would describe as a single head of attention. As I've described things so far, this process is parameterized by three distinct matrices, all filled with tunable parameters, the key, the query, and the value. I want to take a moment to continue what we started in the last chapter, with the scorekeeping where we count up the total number of model parameters using the numbers from GPT-3. These key and query matrices each have 12,288 columns, matching the embedding dimension, and 128 rows, matching the dimension of that smaller key query space. This gives us an additional 1.5 million or so parameters for each one. If you look at that value matrix by contrast, the way I've described things so far would suggest that it's a square matrix that has 12,288 columns and 12,288 rows, since both its inputs and outputs live in this very large embedding space. If true, that would mean about 150 million added parameters. And to be clear, you could do that. You could devote orders of magnitude more parameters to the value map than to the key and query. But in practice, it is much more efficient if instead you make it so that the number of parameters devoted to this value map is the same as the number devoted to the key and the query. This is especially relevant in the setting of running multiple attention heads in parallel. The way this looks is that the value map is factored as a product of two smaller matrices. Conceptually, I would still encourage you to think about the overall linear map, one with inputs and outputs, both in this larger embedding space, for example taking the embedding of blue to this blueness direction that you would add to nouns. It's just that it's a smaller number of rows, typically the same size as the key query space. What this means is you can think of it as mapping the large embedding vectors down to a much smaller space. This is not the conventional naming, but I'm going to call this the value down matrix. The second matrix maps from this smaller space back up to the embedding space, producing the vectors that you use to make the actual updates. I'm going to call this one the value up matrix, which again is not conventional. The way that you would see this written in most papers looks a little different. I'll talk about it in a minute. In my opinion, it tends to make things a little more conceptually confusing. To throw in linear algebra jargon here, what we're basically doing is constraining the overall value map to be a low rank transformation. Turning back to the parameter count, all four of these matrices have the same size, and adding them all up we get about 6.3 million parameters for one attention head. As a quick side note, to be a little more accurate, everything described so far is what people would call a self-attention head, to distinguish it from a variation that comes up in other models that's called cross-attention. This isn't relevant to our GPT example, but if you're curious, cross-attention involves models that process two distinct types of data, like text in one language and text in another language that's part of an ongoing generation of a translation, or maybe audio input of speech and an ongoing transcription. A cross-attention head looks almost identical. The only difference is that the key and query maps act on different data sets. In a model doing translation, for example, the keys might come from one language, while the queries come from another, and the attention pattern could describe which words from one language correspond to which words in another. And in this setting there would typically be no masking, since there's not really any notion of later tokens affecting earlier ones. Staying focused on self-attention though, if you understood everything so far, and if you were to stop here, you would come away with the essence of what attention really is. All that's really left to us is to lay out the sense in which you do this many many different times. In our central example we focused on adjectives updating nouns, but of course there are lots of different ways that context can influence the meaning of a word. If the words they crashed the preceded the word car, it has implications for the shape and structure of that car. And a lot of associations might be less grammatical. If the word wizard is anywhere in the same passage as Harry, it suggests that this might be referring to Harry Potter, whereas if instead the words Queen, Sussex, and William were in that passage, then perhaps the embedding of Harry should instead be updated to refer to the prince. For every different type of contextual updating that you might imagine, the parameters of these key and query matrices would be different to capture the different attention patterns, and the parameters of our value map would be different based on what should be added to the embeddings. And again, in practice the true behavior of these maps is much more difficult to interpret, where the weights are set to do whatever the model needs them to do to best accomplish its goal of predicting the next token. As I said before, everything we described is a single head of attention, and a full attention block inside a transformer consists of what's called multi-headed attention, where you run a lot of these operations in parallel, each with its own distinct key query and value maps. GPT-3 for example uses 96 attention heads inside each block. Considering that each one is already a bit confusing, it's certainly a lot to hold in your head. Just to spell it all out very explicitly, this means you have 96 distinct key and query matrices producing 96 distinct attention patterns. Then each head has its own distinct value matrices used to produce 96 sequences of value vectors. These are all added together using the corresponding attention patterns as weights. What this means is that for each position in the context, each token, every one of these heads produces a proposed change to be added to the embedding in that position. So what you do is you sum together all of those proposed changes, one for each head, and you add the result to the original embedding of that position. This entire sum here would be one slice of what's outputted from this multi-headed attention block, a single one of those refined embeddings that pops out the other end of it. Again, this is a lot to think about, so don't worry at all if it takes some time to sink in. The overall idea is that by running many distinct heads in parallel, you're giving the model the capacity to learn many distinct ways that context changes meaning. Pulling up our running tally for parameter count with 96 heads, each including its own variation of these four matrices, each block of multi-headed attention ends up with around 600 million parameters. There's one added slightly annoying thing that I should really mention for any of you who go on to read more about transformers. You remember how I said that the value map is factored out into these two distinct matrices, which I labeled as the value down and the value up matrices. The way that I framed things would suggest that you see this pair of matrices inside each attention head, and you could absolutely implement it this way. That would be a valid design. But the way that you see this written in papers and the way that it's implemented in practice looks a little different. All of these value up matrices for each head appear stapled together in one giant matrix that we call the output matrix, associated with the entire multi-headed attention block. And when you see people refer to the value matrix for a given attention head, they're typically only referring to this first step, the one that I was labeling as the value down projection into the smaller space. For the curious among you, I've left an on-screen note about it. It's one of those details that runs the risk of distracting from the main conceptual points, but I do want to call it out just so that you know if you read about this in other sources. Setting aside all the technical nuances, in the preview from the last chapter we saw how data flowing through a transformer doesn't just flow through a single attention block. For one thing, it also goes through these other operations called multi-layer perceptrons. We'll talk more about those in the next chapter. And then it repeatedly goes through many many copies of both of these operations. What this means is that after a given word imbibes some of its context, there are many more chances for this more nuanced embedding to be influenced by its more nuanced surroundings. The further down the network you go, with each embedding taking in more and more meaning from all the other embeddings, which themselves are getting more and more nuanced, the hope is that there's the capacity to encode higher level and more abstract ideas about a given input beyond just descriptors and grammatical structure. Things like sentiment and tone and whether it's a poem and what underlying scientific truths are relevant to the piece and things like that. Turning back one more time to our scorekeeping, GPT-3 includes 96 distinct layers, so the total number of key query and value parameters is multiplied by another 96, which brings the total sum to just under 58 billion distinct parameters devoted to all of the attention heads. That is a lot to be sure, but it's only about a third of the 175 billion that are in the network in total. So even though attention gets all of the attention, the majority of parameters come from the blocks sitting in between these steps. In the next chapter, you and I will talk more about those other blocks and also a lot more about the training process. A big part of the story for the success of the attention mechanism is not so much any specific kind of behaviour that it enables, but the fact that it's extremely parallelizable, meaning that you can run a huge number of computations in a short time using GPUs. Given that one of the big lessons about deep learning in the last decade or two has been that scale alone seems to give huge qualitative improvements in model performance, there's a huge advantage to parallelizable architectures that let you do this. If you want to learn more about this stuff, I've left lots of links in the description. In particular, anything produced by Andrej Karpathy or Chris Ola tend to be pure gold. In this video, I wanted to just jump into attention in its current form, but if you're curious about more of the history for how we got here and how you might reinvent this idea for yourself, my friend Vivek just put up a couple videos giving a lot more of that motivation. Also, Britt Cruz from the channel The Art of the Problem has a really nice video about the history of large language models. Thank you.\", 'has_transcript': True, 'score': 0.27915215492248535}\n"
     ]
    }
   ],
   "source": [
    "#embedder.load_indices(os.path.join(\"tmp\", \"faiss_indices\")))\n",
    "results = embedder.search('CLIP: Connecting Text and Images', k=3)\n",
    "print(results.keys())\n",
    "print(*results[\"video\"], sep=\"\\n\")"
   ]
  },
  {
   "cell_type": "code",
   "execution_count": 3,
   "id": "9e516a32-a8f4-41b4-bb4f-769959daf928",
   "metadata": {
    "tags": []
   },
   "outputs": [
    {
     "name": "stdout",
     "output_type": "stream",
     "text": [
      "Attention in transformers, step-by-step | DL6\n",
      " ↳ |██████████████████████████████████████████████████████████████████| 100.0%\r"
     ]
    },
    {
     "data": {
      "text/plain": [
       "'C:\\\\Users\\\\panup\\\\Documents\\\\Tampereen Yliopisto\\\\COMP.CS.530 Fine-tuning Large Language Models\\\\capstone\\\\Attention in transformers, step-by-step  DL6.mp4'"
      ]
     },
     "execution_count": 3,
     "metadata": {},
     "output_type": "execute_result"
    }
   ],
   "source": [
    "from pytubefix import YouTube\n",
    "from pytubefix.cli import on_progress\n",
    "\n",
    "url = \"https://www.youtube.com/watch?v=eMlx5fFNoYc\"\n",
    "\n",
    "yt = YouTube(url, on_progress_callback=on_progress)\n",
    "print(yt.title)\n",
    "\n",
    "ys = yt.streams.get_highest_resolution()\n",
    "ys.download()"
   ]
  },
  {
   "cell_type": "code",
   "execution_count": null,
   "id": "351573ca-e7a7-494f-9ae9-778e504e02c2",
   "metadata": {},
   "outputs": [],
   "source": []
  }
 ],
 "metadata": {
  "kernelspec": {
   "display_name": "Python 3.12",
   "language": "python",
   "name": "python312"
  },
  "language_info": {
   "codemirror_mode": {
    "name": "ipython",
    "version": 3
   },
   "file_extension": ".py",
   "mimetype": "text/x-python",
   "name": "python",
   "nbconvert_exporter": "python",
   "pygments_lexer": "ipython3",
   "version": "3.12.8"
  }
 },
 "nbformat": 4,
 "nbformat_minor": 5
}
